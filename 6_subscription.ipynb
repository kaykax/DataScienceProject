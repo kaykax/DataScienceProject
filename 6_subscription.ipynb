{
 "cells": [
  {
   "cell_type": "code",
   "execution_count": 1,
   "metadata": {},
   "outputs": [],
   "source": [
    "## IMPORT DATA\n",
    "import matplotlib.pyplot as plt  \n",
    "from sklearn.metrics import confusion_matrix\n",
    "import pandas as pd\n",
    "import numpy as np\n",
    "import os \n",
    "import sklearn\n",
    "from sklearn.model_selection import LeaveOneOut\n",
    "from sklearn.neighbors import KNeighborsClassifier\n",
    "from sklearn.model_selection import KFold\n",
    "from sklearn import datasets, linear_model\n",
    "from sklearn.model_selection import cross_val_score\n",
    "from sklearn.preprocessing import MinMaxScaler\n",
    "from sklearn.model_selection import train_test_split\n",
    "from sklearn.linear_model import LogisticRegression\n",
    "import sys\n",
    "\n",
    "\n",
    "import gzip\n",
    "import os\n",
    "import copy\n",
    "import random\n",
    "\n",
    "\n",
    "from sklearn.svm import LinearSVC\n",
    "from sklearn.pipeline import make_pipeline\n",
    "from sklearn.preprocessing import StandardScaler\n",
    "from sklearn.datasets import make_classification\n",
    "import seaborn as sns\n",
    "\n",
    "from sklearn.model_selection import GridSearchCV\n",
    "from matplotlib.pyplot import figure\n",
    "\n",
    "if not sys.warnoptions:\n",
    "    import warnings\n",
    "    warnings.simplefilter(\"ignore\")\n",
    "from sklearn.model_selection import cross_val_score\n",
    "from sklearn.tree import DecisionTreeClassifier\n",
    "from sklearn import tree\n",
    "import graphviz \n",
    "\n",
    "\n",
    "from sklearn.ensemble import GradientBoostingClassifier, RandomForestClassifier\n",
    "from sklearn.ensemble import AdaBoostClassifier\n",
    "from sklearn.feature_selection import SelectFromModel\n",
    "from sklearn.ensemble import AdaBoostRegressor"
   ]
  },
  {
   "cell_type": "code",
   "execution_count": 3,
   "metadata": {},
   "outputs": [],
   "source": [
    "df=pd.read_csv('subscription.csv')"
   ]
  },
  {
   "cell_type": "code",
   "execution_count": 5,
   "metadata": {},
   "outputs": [
    {
     "name": "stdout",
     "output_type": "stream",
     "text": [
      "   user_id subscription_signup_date  subscription_monthly_cost  country  \\\n",
      "0     1459            January, 2015                         29    Spain   \n",
      "1    12474            January, 2015                         49   France   \n",
      "2    12294            January, 2015                         49  Germany   \n",
      "3     3878            January, 2015                         49    China   \n",
      "4     9567            January, 2015                         49       UK   \n",
      "\n",
      "  source  billing_cycles  is_active  \n",
      "0    ads               4          0  \n",
      "1    ads               5          0  \n",
      "2    ads               2          0  \n",
      "3    ads               1          0  \n",
      "4    ads               5          0  \n",
      "Index(['user_id', 'subscription_signup_date', 'subscription_monthly_cost',\n",
      "       'country', 'source', 'billing_cycles', 'is_active'],\n",
      "      dtype='object')\n"
     ]
    }
   ],
   "source": [
    "print(df.head())\n",
    "print(df.columns)\n"
   ]
  },
  {
   "cell_type": "markdown",
   "metadata": {},
   "source": [
    "A model that predicts monthly retention rate for the different subscription price points\n",
    "\n",
    "\n",
    "Based on your model, for each price point, what percentage of users is still subscribed after at least 12 months?\n",
    "\n",
    "\n",
    "How do user country and source affect subscription retention rate? How would you use these findings to improve the company revenue?"
   ]
  },
  {
   "cell_type": "code",
   "execution_count": 7,
   "metadata": {},
   "outputs": [
    {
     "data": {
      "text/html": [
       "<div>\n",
       "<style scoped>\n",
       "    .dataframe tbody tr th:only-of-type {\n",
       "        vertical-align: middle;\n",
       "    }\n",
       "\n",
       "    .dataframe tbody tr th {\n",
       "        vertical-align: top;\n",
       "    }\n",
       "\n",
       "    .dataframe thead th {\n",
       "        text-align: right;\n",
       "    }\n",
       "</style>\n",
       "<table border=\"1\" class=\"dataframe\">\n",
       "  <thead>\n",
       "    <tr style=\"text-align: right;\">\n",
       "      <th></th>\n",
       "      <th>1</th>\n",
       "      <th>2</th>\n",
       "      <th>3</th>\n",
       "      <th>4</th>\n",
       "      <th>5</th>\n",
       "      <th>6</th>\n",
       "      <th>7</th>\n",
       "      <th>8</th>\n",
       "    </tr>\n",
       "    <tr>\n",
       "      <th>subscription_monthly_cost</th>\n",
       "      <th></th>\n",
       "      <th></th>\n",
       "      <th></th>\n",
       "      <th></th>\n",
       "      <th></th>\n",
       "      <th></th>\n",
       "      <th></th>\n",
       "      <th></th>\n",
       "    </tr>\n",
       "  </thead>\n",
       "  <tbody>\n",
       "    <tr>\n",
       "      <th>29</th>\n",
       "      <td>57441</td>\n",
       "      <td>21818</td>\n",
       "      <td>12037</td>\n",
       "      <td>7787</td>\n",
       "      <td>5505</td>\n",
       "      <td>4136</td>\n",
       "      <td>3111</td>\n",
       "      <td>34527</td>\n",
       "    </tr>\n",
       "    <tr>\n",
       "      <th>49</th>\n",
       "      <td>185145</td>\n",
       "      <td>53296</td>\n",
       "      <td>21690</td>\n",
       "      <td>11288</td>\n",
       "      <td>6727</td>\n",
       "      <td>4405</td>\n",
       "      <td>3173</td>\n",
       "      <td>14673</td>\n",
       "    </tr>\n",
       "    <tr>\n",
       "      <th>99</th>\n",
       "      <td>44788</td>\n",
       "      <td>4724</td>\n",
       "      <td>1471</td>\n",
       "      <td>678</td>\n",
       "      <td>399</td>\n",
       "      <td>226</td>\n",
       "      <td>156</td>\n",
       "      <td>799</td>\n",
       "    </tr>\n",
       "  </tbody>\n",
       "</table>\n",
       "</div>"
      ],
      "text/plain": [
       "                                1      2      3      4     5     6     7  \\\n",
       "subscription_monthly_cost                                                  \n",
       "29                          57441  21818  12037   7787  5505  4136  3111   \n",
       "49                         185145  53296  21690  11288  6727  4405  3173   \n",
       "99                          44788   4724   1471    678   399   226   156   \n",
       "\n",
       "                               8  \n",
       "subscription_monthly_cost         \n",
       "29                         34527  \n",
       "49                         14673  \n",
       "99                           799  "
      ]
     },
     "execution_count": 7,
     "metadata": {},
     "output_type": "execute_result"
    }
   ],
   "source": [
    "df.groupby('subscription_monthly_cost').apply(lambda df: df.billing_cycles.value_counts()).unstack()\n",
    "#df.groupby('user_id')['Item_id'].agg(['sum','count']).sort_values('count',ascending=False)"
   ]
  },
  {
   "cell_type": "code",
   "execution_count": 10,
   "metadata": {},
   "outputs": [],
   "source": [
    "# retention rate\n",
    "df=df.drop(labels='subscription_signup_date',axis=1)"
   ]
  },
  {
   "cell_type": "code",
   "execution_count": 11,
   "metadata": {},
   "outputs": [
    {
     "data": {
      "text/html": [
       "<div>\n",
       "<style scoped>\n",
       "    .dataframe tbody tr th:only-of-type {\n",
       "        vertical-align: middle;\n",
       "    }\n",
       "\n",
       "    .dataframe tbody tr th {\n",
       "        vertical-align: top;\n",
       "    }\n",
       "\n",
       "    .dataframe thead th {\n",
       "        text-align: right;\n",
       "    }\n",
       "</style>\n",
       "<table border=\"1\" class=\"dataframe\">\n",
       "  <thead>\n",
       "    <tr style=\"text-align: right;\">\n",
       "      <th></th>\n",
       "      <th>user_id</th>\n",
       "      <th>subscription_monthly_cost</th>\n",
       "      <th>country</th>\n",
       "      <th>source</th>\n",
       "      <th>billing_cycles</th>\n",
       "      <th>is_active</th>\n",
       "    </tr>\n",
       "  </thead>\n",
       "  <tbody>\n",
       "    <tr>\n",
       "      <th>0</th>\n",
       "      <td>1459</td>\n",
       "      <td>29</td>\n",
       "      <td>Spain</td>\n",
       "      <td>ads</td>\n",
       "      <td>4</td>\n",
       "      <td>0</td>\n",
       "    </tr>\n",
       "    <tr>\n",
       "      <th>1</th>\n",
       "      <td>12474</td>\n",
       "      <td>49</td>\n",
       "      <td>France</td>\n",
       "      <td>ads</td>\n",
       "      <td>5</td>\n",
       "      <td>0</td>\n",
       "    </tr>\n",
       "    <tr>\n",
       "      <th>2</th>\n",
       "      <td>12294</td>\n",
       "      <td>49</td>\n",
       "      <td>Germany</td>\n",
       "      <td>ads</td>\n",
       "      <td>2</td>\n",
       "      <td>0</td>\n",
       "    </tr>\n",
       "    <tr>\n",
       "      <th>3</th>\n",
       "      <td>3878</td>\n",
       "      <td>49</td>\n",
       "      <td>China</td>\n",
       "      <td>ads</td>\n",
       "      <td>1</td>\n",
       "      <td>0</td>\n",
       "    </tr>\n",
       "    <tr>\n",
       "      <th>4</th>\n",
       "      <td>9567</td>\n",
       "      <td>49</td>\n",
       "      <td>UK</td>\n",
       "      <td>ads</td>\n",
       "      <td>5</td>\n",
       "      <td>0</td>\n",
       "    </tr>\n",
       "  </tbody>\n",
       "</table>\n",
       "</div>"
      ],
      "text/plain": [
       "   user_id  subscription_monthly_cost  country source  billing_cycles  \\\n",
       "0     1459                         29    Spain    ads               4   \n",
       "1    12474                         49   France    ads               5   \n",
       "2    12294                         49  Germany    ads               2   \n",
       "3     3878                         49    China    ads               1   \n",
       "4     9567                         49       UK    ads               5   \n",
       "\n",
       "   is_active  \n",
       "0          0  \n",
       "1          0  \n",
       "2          0  \n",
       "3          0  \n",
       "4          0  "
      ]
     },
     "execution_count": 11,
     "metadata": {},
     "output_type": "execute_result"
    }
   ],
   "source": [
    "df.head()"
   ]
  },
  {
   "cell_type": "code",
   "execution_count": 12,
   "metadata": {},
   "outputs": [
    {
     "data": {
      "text/plain": [
       "500000"
      ]
     },
     "execution_count": 12,
     "metadata": {},
     "output_type": "execute_result"
    }
   ],
   "source": [
    "len(df)"
   ]
  },
  {
   "cell_type": "code",
   "execution_count": null,
   "metadata": {},
   "outputs": [],
   "source": []
  },
  {
   "cell_type": "markdown",
   "metadata": {},
   "source": [
    "### retention rate\n"
   ]
  },
  {
   "cell_type": "code",
   "execution_count": 19,
   "metadata": {},
   "outputs": [],
   "source": [
    "def retention_rate(df):\n",
    "    total_num = len(df)\n",
    "    rate = []\n",
    "    for i in [1, 2, 3, 4, 5, 6, 7, 8]:\n",
    "        rate.append(len(df[df['billing_cycles'] >= i]) / total_num)\n",
    "        \n",
    "    return pd.Series(rate, index=[1, 2, 3, 4, 5, 6, 7, 8])"
   ]
  },
  {
   "cell_type": "code",
   "execution_count": 20,
   "metadata": {},
   "outputs": [
    {
     "data": {
      "text/plain": [
       "1    1.000000\n",
       "2    0.425252\n",
       "3    0.265576\n",
       "4    0.195180\n",
       "5    0.155674\n",
       "6    0.130412\n",
       "7    0.112878\n",
       "8    0.099998\n",
       "dtype: float64"
      ]
     },
     "execution_count": 20,
     "metadata": {},
     "output_type": "execute_result"
    }
   ],
   "source": [
    "retention_rate(df)"
   ]
  },
  {
   "cell_type": "code",
   "execution_count": 21,
   "metadata": {},
   "outputs": [
    {
     "data": {
      "text/html": [
       "<div>\n",
       "<style scoped>\n",
       "    .dataframe tbody tr th:only-of-type {\n",
       "        vertical-align: middle;\n",
       "    }\n",
       "\n",
       "    .dataframe tbody tr th {\n",
       "        vertical-align: top;\n",
       "    }\n",
       "\n",
       "    .dataframe thead th {\n",
       "        text-align: right;\n",
       "    }\n",
       "</style>\n",
       "<table border=\"1\" class=\"dataframe\">\n",
       "  <thead>\n",
       "    <tr style=\"text-align: right;\">\n",
       "      <th></th>\n",
       "      <th>1</th>\n",
       "      <th>2</th>\n",
       "      <th>3</th>\n",
       "      <th>4</th>\n",
       "      <th>5</th>\n",
       "      <th>6</th>\n",
       "      <th>7</th>\n",
       "      <th>8</th>\n",
       "    </tr>\n",
       "    <tr>\n",
       "      <th>subscription_monthly_cost</th>\n",
       "      <th></th>\n",
       "      <th></th>\n",
       "      <th></th>\n",
       "      <th></th>\n",
       "      <th></th>\n",
       "      <th></th>\n",
       "      <th></th>\n",
       "      <th></th>\n",
       "    </tr>\n",
       "  </thead>\n",
       "  <tbody>\n",
       "    <tr>\n",
       "      <th>29</th>\n",
       "      <td>1.0</td>\n",
       "      <td>0.607542</td>\n",
       "      <td>0.458473</td>\n",
       "      <td>0.376232</td>\n",
       "      <td>0.323028</td>\n",
       "      <td>0.285416</td>\n",
       "      <td>0.257157</td>\n",
       "      <td>0.235901</td>\n",
       "    </tr>\n",
       "    <tr>\n",
       "      <th>49</th>\n",
       "      <td>1.0</td>\n",
       "      <td>0.383666</td>\n",
       "      <td>0.206247</td>\n",
       "      <td>0.134043</td>\n",
       "      <td>0.096466</td>\n",
       "      <td>0.074072</td>\n",
       "      <td>0.059408</td>\n",
       "      <td>0.048845</td>\n",
       "    </tr>\n",
       "    <tr>\n",
       "      <th>99</th>\n",
       "      <td>1.0</td>\n",
       "      <td>0.158769</td>\n",
       "      <td>0.070040</td>\n",
       "      <td>0.042411</td>\n",
       "      <td>0.029676</td>\n",
       "      <td>0.022182</td>\n",
       "      <td>0.017937</td>\n",
       "      <td>0.015007</td>\n",
       "    </tr>\n",
       "  </tbody>\n",
       "</table>\n",
       "</div>"
      ],
      "text/plain": [
       "                             1         2         3         4         5  \\\n",
       "subscription_monthly_cost                                                \n",
       "29                         1.0  0.607542  0.458473  0.376232  0.323028   \n",
       "49                         1.0  0.383666  0.206247  0.134043  0.096466   \n",
       "99                         1.0  0.158769  0.070040  0.042411  0.029676   \n",
       "\n",
       "                                  6         7         8  \n",
       "subscription_monthly_cost                                \n",
       "29                         0.285416  0.257157  0.235901  \n",
       "49                         0.074072  0.059408  0.048845  \n",
       "99                         0.022182  0.017937  0.015007  "
      ]
     },
     "execution_count": 21,
     "metadata": {},
     "output_type": "execute_result"
    }
   ],
   "source": [
    "grouped = df.groupby('subscription_monthly_cost').apply(retention_rate)\n",
    "grouped"
   ]
  },
  {
   "cell_type": "code",
   "execution_count": 25,
   "metadata": {},
   "outputs": [
    {
     "data": {
      "text/plain": [
       "Text(0, 0.5, 'Retention Rate')"
      ]
     },
     "execution_count": 25,
     "metadata": {},
     "output_type": "execute_result"
    },
    {
     "data": {
      "image/png": "[encoded data removed]",
      "text/plain": [
       "<Figure size 864x432 with 1 Axes>"
      ]
     },
     "metadata": {
      "needs_background": "light"
     },
     "output_type": "display_data"
    }
   ],
   "source": [
    "fig, ax = plt.subplots(figsize=(12, 6))\n",
    "\n",
    "grouped.T.plot(kind='line', ax=ax)\n",
    "ax.set_xlabel('Billing Cycle', fontsize=12)\n",
    "ax.set_ylabel('Retention Rate', fontsize=12)\n"
   ]
  },
  {
   "cell_type": "markdown",
   "metadata": {},
   "source": [
    "### Now, let's add some non-linear component. For features, we add $x$, $x^2$, and $log(x)$ as the feature. For the target, we fit $log(rate)$ instead.\n",
    "\n",
    "\n",
    "fit Linear Regression model\n",
    "from above plot, we can draw following conclusions:\n",
    "\n",
    "for each 'monthly_cost', there are only 8 samples.\n",
    "complex model will overfit on samll dataset, so I decide to use a simple regression model - Linear Regression\n",
    "the remaining #subscribers by the end of each billing cycles has a nonlinear relationship with #billing_cycles\n",
    "so I need to include some nonlinear transformation of 'billing_cycles'\n",
    "by no means, the target, #subscribers should be non-negative\n",
    "so I cannot fit on original target, i.e., '#subscribers at the end of each billing cycle', but on log(#subscribers).\n",
    "then after obtaining the fitted value, we transform back to '#subscribers' by exp(), which can guarantee the result is always positive"
   ]
  },
  {
   "cell_type": "code",
   "execution_count": 26,
   "metadata": {},
   "outputs": [
    {
     "data": {
      "text/html": [
       "<div>\n",
       "<style scoped>\n",
       "    .dataframe tbody tr th:only-of-type {\n",
       "        vertical-align: middle;\n",
       "    }\n",
       "\n",
       "    .dataframe tbody tr th {\n",
       "        vertical-align: top;\n",
       "    }\n",
       "\n",
       "    .dataframe thead th {\n",
       "        text-align: right;\n",
       "    }\n",
       "</style>\n",
       "<table border=\"1\" class=\"dataframe\">\n",
       "  <thead>\n",
       "    <tr style=\"text-align: right;\">\n",
       "      <th></th>\n",
       "      <th>x</th>\n",
       "      <th>x2</th>\n",
       "      <th>logx</th>\n",
       "      <th>y_29</th>\n",
       "      <th>y_49</th>\n",
       "      <th>y_99</th>\n",
       "    </tr>\n",
       "  </thead>\n",
       "  <tbody>\n",
       "    <tr>\n",
       "      <th>0</th>\n",
       "      <td>1</td>\n",
       "      <td>1</td>\n",
       "      <td>0.000000</td>\n",
       "      <td>1.000000</td>\n",
       "      <td>1.000000</td>\n",
       "      <td>1.000000</td>\n",
       "    </tr>\n",
       "    <tr>\n",
       "      <th>1</th>\n",
       "      <td>2</td>\n",
       "      <td>4</td>\n",
       "      <td>0.693147</td>\n",
       "      <td>0.607542</td>\n",
       "      <td>0.383666</td>\n",
       "      <td>0.158769</td>\n",
       "    </tr>\n",
       "    <tr>\n",
       "      <th>2</th>\n",
       "      <td>3</td>\n",
       "      <td>9</td>\n",
       "      <td>1.098612</td>\n",
       "      <td>0.458473</td>\n",
       "      <td>0.206247</td>\n",
       "      <td>0.070040</td>\n",
       "    </tr>\n",
       "    <tr>\n",
       "      <th>3</th>\n",
       "      <td>4</td>\n",
       "      <td>16</td>\n",
       "      <td>1.386294</td>\n",
       "      <td>0.376232</td>\n",
       "      <td>0.134043</td>\n",
       "      <td>0.042411</td>\n",
       "    </tr>\n",
       "    <tr>\n",
       "      <th>4</th>\n",
       "      <td>5</td>\n",
       "      <td>25</td>\n",
       "      <td>1.609438</td>\n",
       "      <td>0.323028</td>\n",
       "      <td>0.096466</td>\n",
       "      <td>0.029676</td>\n",
       "    </tr>\n",
       "    <tr>\n",
       "      <th>5</th>\n",
       "      <td>6</td>\n",
       "      <td>36</td>\n",
       "      <td>1.791759</td>\n",
       "      <td>0.285416</td>\n",
       "      <td>0.074072</td>\n",
       "      <td>0.022182</td>\n",
       "    </tr>\n",
       "    <tr>\n",
       "      <th>6</th>\n",
       "      <td>7</td>\n",
       "      <td>49</td>\n",
       "      <td>1.945910</td>\n",
       "      <td>0.257157</td>\n",
       "      <td>0.059408</td>\n",
       "      <td>0.017937</td>\n",
       "    </tr>\n",
       "    <tr>\n",
       "      <th>7</th>\n",
       "      <td>8</td>\n",
       "      <td>64</td>\n",
       "      <td>2.079442</td>\n",
       "      <td>0.235901</td>\n",
       "      <td>0.048845</td>\n",
       "      <td>0.015007</td>\n",
       "    </tr>\n",
       "  </tbody>\n",
       "</table>\n",
       "</div>"
      ],
      "text/plain": [
       "   x  x2      logx      y_29      y_49      y_99\n",
       "0  1   1  0.000000  1.000000  1.000000  1.000000\n",
       "1  2   4  0.693147  0.607542  0.383666  0.158769\n",
       "2  3   9  1.098612  0.458473  0.206247  0.070040\n",
       "3  4  16  1.386294  0.376232  0.134043  0.042411\n",
       "4  5  25  1.609438  0.323028  0.096466  0.029676\n",
       "5  6  36  1.791759  0.285416  0.074072  0.022182\n",
       "6  7  49  1.945910  0.257157  0.059408  0.017937\n",
       "7  8  64  2.079442  0.235901  0.048845  0.015007"
      ]
     },
     "execution_count": 26,
     "metadata": {},
     "output_type": "execute_result"
    }
   ],
   "source": [
    "\n",
    "# Let's create features\n",
    "x = np.array([1, 2, 3, 4, 5, 6, 7, 8])\n",
    "x2 = x ** 2\n",
    "logx = np.log(x)\n",
    "rate_29 = grouped.loc[29].values\n",
    "rate_49 = grouped.loc[49].values\n",
    "rate_99 = grouped.loc[99].values\n",
    "\n",
    "features = pd.DataFrame({'x': x, 'x2': x2, 'logx': logx, 'y_29': rate_29, 'y_49': rate_49, 'y_99': rate_99}, \n",
    "                        columns=['x', 'x2', 'logx', 'y_29', 'y_49', 'y_99'])\n",
    "features"
   ]
  },
  {
   "cell_type": "code",
   "execution_count": 31,
   "metadata": {},
   "outputs": [
    {
     "data": {
      "text/plain": [
       "array([1.        , 0.60754157, 0.45847283, 0.37623154, 0.32302784,\n",
       "       0.28541561, 0.25715691, 0.2359014 ])"
      ]
     },
     "execution_count": 31,
     "metadata": {},
     "output_type": "execute_result"
    }
   ],
   "source": [
    "grouped.loc[29].values"
   ]
  },
  {
   "cell_type": "code",
   "execution_count": 33,
   "metadata": {},
   "outputs": [],
   "source": [
    "from sklearn.linear_model import LinearRegression\n"
   ]
  },
  {
   "cell_type": "code",
   "execution_count": 48,
   "metadata": {},
   "outputs": [
    {
     "data": {
      "text/plain": [
       "x         int64\n",
       "x2        int64\n",
       "logx    float64\n",
       "y_29    float64\n",
       "y_49    float64\n",
       "y_99    float64\n",
       "dtype: object"
      ]
     },
     "execution_count": 48,
     "metadata": {},
     "output_type": "execute_result"
    }
   ],
   "source": [
    "features.dtypes"
   ]
  },
  {
   "cell_type": "code",
   "execution_count": 54,
   "metadata": {},
   "outputs": [],
   "source": [
    "features=np.array(features)\n"
   ]
  },
  {
   "cell_type": "code",
   "execution_count": 57,
   "metadata": {},
   "outputs": [
    {
     "data": {
      "text/plain": [
       "array([[ 1.        ,  1.        ,  0.        ],\n",
       "       [ 2.        ,  4.        ,  0.69314718],\n",
       "       [ 3.        ,  9.        ,  1.09861229],\n",
       "       [ 4.        , 16.        ,  1.38629436],\n",
       "       [ 5.        , 25.        ,  1.60943791],\n",
       "       [ 6.        , 36.        ,  1.79175947],\n",
       "       [ 7.        , 49.        ,  1.94591015],\n",
       "       [ 8.        , 64.        ,  2.07944154]])"
      ]
     },
     "execution_count": 57,
     "metadata": {},
     "output_type": "execute_result"
    }
   ],
   "source": [
    "x=features[:,0:3]\n",
    "x"
   ]
  },
  {
   "cell_type": "code",
   "execution_count": 63,
   "metadata": {},
   "outputs": [],
   "source": [
    "# Fit linear regression model\n",
    "model_29 = LinearRegression()\n",
    "model_49 = LinearRegression()\n",
    "model_99 = LinearRegression()\n",
    "\n",
    "x=features[:, 0:3]\n",
    "y_29=features[:,[3]]\n",
    "y_49=features[:,[4]]\n",
    "y_99=features[:,[5]]\n"
   ]
  },
  {
   "cell_type": "code",
   "execution_count": 64,
   "metadata": {},
   "outputs": [
    {
     "data": {
      "text/plain": [
       "array([[1.        ],\n",
       "       [0.60754157],\n",
       "       [0.45847283],\n",
       "       [0.37623154],\n",
       "       [0.32302784],\n",
       "       [0.28541561],\n",
       "       [0.25715691],\n",
       "       [0.2359014 ]])"
      ]
     },
     "execution_count": 64,
     "metadata": {},
     "output_type": "execute_result"
    }
   ],
   "source": [
    "y_29\n"
   ]
  },
  {
   "cell_type": "code",
   "execution_count": 65,
   "metadata": {},
   "outputs": [],
   "source": [
    "model_29 = model_29.fit(x, np.log(y_29))\n",
    "model_49 = model_49.fit(x, np.log(y_49))\n",
    "model_99 = model_99.fit(x, np.log(y_99))"
   ]
  },
  {
   "cell_type": "code",
   "execution_count": 66,
   "metadata": {},
   "outputs": [
    {
     "ename": "AttributeError",
     "evalue": "'LinearRegression' object has no attribute 'summary'",
     "output_type": "error",
     "traceback": [
      "\u001b[0;31m---------------------------------------------------------------------------\u001b[0m",
      "\u001b[0;31mAttributeError\u001b[0m                            Traceback (most recent call last)",
      "\u001b[0;32m<ipython-input-66-843ca7d395fa>\u001b[0m in \u001b[0;36m<module>\u001b[0;34m\u001b[0m\n\u001b[0;32m----> 1\u001b[0;31m \u001b[0mmodel_29\u001b[0m\u001b[0;34m.\u001b[0m\u001b[0msummary\u001b[0m\u001b[0;34m(\u001b[0m\u001b[0;34m)\u001b[0m\u001b[0;34m\u001b[0m\u001b[0;34m\u001b[0m\u001b[0m\n\u001b[0m",
      "\u001b[0;31mAttributeError\u001b[0m: 'LinearRegression' object has no attribute 'summary'"
     ]
    }
   ],
   "source": [
    "model_29."
   ]
  },
  {
   "cell_type": "code",
   "execution_count": null,
   "metadata": {},
   "outputs": [],
   "source": []
  }
 ],
 "metadata": {
  "kernelspec": {
   "display_name": "Python 3",
   "language": "python",
   "name": "python3"
  },
  "language_info": {
   "codemirror_mode": {
    "name": "ipython",
    "version": 3
   },
   "file_extension": ".py",
   "mimetype": "text/x-python",
   "name": "python",
   "nbconvert_exporter": "python",
   "pygments_lexer": "ipython3",
   "version": "3.8.2"
  }
 },
 "nbformat": 4,
 "nbformat_minor": 4
}
